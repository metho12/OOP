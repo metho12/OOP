{
 "cells": [
  {
   "cell_type": "markdown",
   "id": "937231f8",
   "metadata": {},
   "source": [
    "# ---------Create a class--------"
   ]
  },
  {
   "cell_type": "code",
   "execution_count": 34,
   "id": "c6c28702",
   "metadata": {},
   "outputs": [
    {
     "name": "stdout",
     "output_type": "stream",
     "text": [
      "7\n",
      "12\n"
     ]
    }
   ],
   "source": [
    "class Calculator:\n",
    "    \n",
    "    def sum(self,x,y):\n",
    "        print(x+y)\n",
    "    def s (self,d,g):\n",
    "        print(d*g)\n",
    "        \n",
    "c1=Calculator()\n",
    "c1.sum(3,4)\n",
    "\n",
    "c2=Calculator()\n",
    "c2.s(3,4)"
   ]
  },
  {
   "cell_type": "code",
   "execution_count": 32,
   "id": "07c30750",
   "metadata": {},
   "outputs": [
    {
     "name": "stdout",
     "output_type": "stream",
     "text": [
      "hello\n"
     ]
    }
   ],
   "source": [
    "class Calculator:\n",
    "    \n",
    "    def __init__(self):\n",
    "        print(\"hello\")\n",
    " \n",
    "        \n",
    "c1=Calculator()"
   ]
  },
  {
   "cell_type": "code",
   "execution_count": 28,
   "id": "e3c2e711",
   "metadata": {},
   "outputs": [
    {
     "name": "stdout",
     "output_type": "stream",
     "text": [
      "11\n",
      "30\n",
      "15625\n"
     ]
    }
   ],
   "source": [
    "class SciCalc:\n",
    "    def sum(self,x,y):\n",
    "        print (x+y)\n",
    "    def mul(self,x,y):\n",
    "        print (x*y)\n",
    "        \n",
    "    def power(self,x,y):\n",
    "        print (x**y)\n",
    "d=SciCalc()\n",
    "d.sum(5,6)\n",
    "d.mul(5,6)\n",
    "d.power(5,6)\n"
   ]
  },
  {
   "cell_type": "markdown",
   "id": "a913b862",
   "metadata": {},
   "source": [
    "Inheritance "
   ]
  },
  {
   "cell_type": "code",
   "execution_count": 35,
   "id": "83d004d2",
   "metadata": {},
   "outputs": [
    {
     "name": "stdout",
     "output_type": "stream",
     "text": [
      "11\n",
      "30\n",
      "15625\n"
     ]
    }
   ],
   "source": [
    "class SciCalc(Calculator):\n",
    "   \n",
    "    def mul(self,x,y):\n",
    "        print (x*y)\n",
    "        \n",
    "    def power(self,x,y):\n",
    "        print (x**y)\n",
    "d=SciCalc()\n",
    "d.sum(5,6)\n",
    "d.mul(5,6)\n",
    "d.power(5,6)"
   ]
  },
  {
   "cell_type": "markdown",
   "id": "f34b05ab",
   "metadata": {},
   "source": [
    "\n",
    "The Method Resolution Order (MRO) is the set of rules that construct the linearization"
   ]
  },
  {
   "cell_type": "markdown",
   "id": "3bc39551",
   "metadata": {},
   "source": [
    "The pass statement is used as a placeholder for future code. "
   ]
  },
  {
   "cell_type": "code",
   "execution_count": 39,
   "id": "7735e014",
   "metadata": {},
   "outputs": [
    {
     "name": "stdout",
     "output_type": "stream",
     "text": [
      "[<class '__main__.C'>, <class 'object'>]\n"
     ]
    }
   ],
   "source": [
    "class A:\n",
    "    def do (self):\n",
    "        print('int A')\n",
    "class B(A):\n",
    "    pass \n",
    "class C:\n",
    "    def do(self):\n",
    "        print('int c')\n",
    "f= C()\n",
    "f.do\n",
    "\n",
    "print(C.mro())"
   ]
  },
  {
   "cell_type": "code",
   "execution_count": 40,
   "id": "66021ca8",
   "metadata": {},
   "outputs": [],
   "source": [
    "s = 'mohmoud'\n",
    "l = [1,2,3,4,5,6,6]\n",
    "t =(0,9,8,7,6,55,5,4)"
   ]
  },
  {
   "cell_type": "code",
   "execution_count": 42,
   "id": "c395ab82",
   "metadata": {},
   "outputs": [
    {
     "data": {
      "text/plain": [
       "7"
      ]
     },
     "execution_count": 42,
     "metadata": {},
     "output_type": "execute_result"
    }
   ],
   "source": [
    "len(l)\n"
   ]
  },
  {
   "cell_type": "code",
   "execution_count": 43,
   "id": "03d56ca0",
   "metadata": {},
   "outputs": [
    {
     "data": {
      "text/plain": [
       "8"
      ]
     },
     "execution_count": 43,
     "metadata": {},
     "output_type": "execute_result"
    }
   ],
   "source": [
    "len(t)"
   ]
  },
  {
   "cell_type": "code",
   "execution_count": 44,
   "id": "46bf976a",
   "metadata": {},
   "outputs": [
    {
     "data": {
      "text/plain": [
       "7"
      ]
     },
     "execution_count": 44,
     "metadata": {},
     "output_type": "execute_result"
    }
   ],
   "source": [
    "len(s)"
   ]
  },
  {
   "cell_type": "code",
   "execution_count": null,
   "id": "e8b517d0",
   "metadata": {},
   "outputs": [],
   "source": []
  }
 ],
 "metadata": {
  "kernelspec": {
   "display_name": "Python 3 (ipykernel)",
   "language": "python",
   "name": "python3"
  },
  "language_info": {
   "codemirror_mode": {
    "name": "ipython",
    "version": 3
   },
   "file_extension": ".py",
   "mimetype": "text/x-python",
   "name": "python",
   "nbconvert_exporter": "python",
   "pygments_lexer": "ipython3",
   "version": "3.9.12"
  }
 },
 "nbformat": 4,
 "nbformat_minor": 5
}
